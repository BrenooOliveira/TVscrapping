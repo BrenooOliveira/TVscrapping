{
  "cells": [
    {
      "cell_type": "markdown",
      "metadata": {
        "colab_type": "text",
        "id": "view-in-github"
      },
      "source": [
        "<a href=\"https://colab.research.google.com/github/BrenooOliveira/TVscrapping/blob/main/tests/app.ipynb\" target=\"_parent\"><img src=\"https://colab.research.google.com/assets/colab-badge.svg\" alt=\"Open In Colab\"/></a>"
      ]
    },
    {
      "cell_type": "code",
      "execution_count": 1,
      "metadata": {
        "id": "zreIHg9Jn9Ej"
      },
      "outputs": [],
      "source": [
        "import requests\n",
        "from bs4 import BeautifulSoup\n"
      ]
    },
    {
      "cell_type": "markdown",
      "metadata": {
        "id": "XQ366i9qIrU_"
      },
      "source": [
        "# REQUISIÇÃO"
      ]
    },
    {
      "cell_type": "code",
      "execution_count": 2,
      "metadata": {
        "id": "AnrUiyy0oWXa"
      },
      "outputs": [],
      "source": [
        "BASE_URL = 'https://www.buscape.com.br/tv'\n",
        "page = 1"
      ]
    },
    {
      "cell_type": "code",
      "execution_count": 3,
      "metadata": {
        "colab": {
          "base_uri": "https://localhost:8080/",
          "height": 36
        },
        "id": "DgftrvEDn9Ek",
        "outputId": "54102227-46fc-4e6e-e3c6-ca60859f56e5"
      },
      "outputs": [
        {
          "data": {
            "text/plain": [
              "'https://www.buscape.com.br/tv?page=1'"
            ]
          },
          "execution_count": 3,
          "metadata": {},
          "output_type": "execute_result"
        }
      ],
      "source": [
        "url = f'{BASE_URL}?page={page}'\n",
        "url"
      ]
    },
    {
      "cell_type": "code",
      "execution_count": 4,
      "metadata": {
        "id": "tMIYTJUSn9El"
      },
      "outputs": [],
      "source": [
        "r = requests.get(url)"
      ]
    },
    {
      "cell_type": "code",
      "execution_count": 5,
      "metadata": {
        "colab": {
          "base_uri": "https://localhost:8080/"
        },
        "id": "O-T22Oovp6MK",
        "outputId": "3177a0df-3f8e-4003-f66d-eca1e84f6c6e"
      },
      "outputs": [
        {
          "data": {
            "text/plain": [
              "<Response [200]>"
            ]
          },
          "execution_count": 5,
          "metadata": {},
          "output_type": "execute_result"
        }
      ],
      "source": [
        "r"
      ]
    },
    {
      "cell_type": "markdown",
      "metadata": {
        "id": "VDCiyivZIvEn"
      },
      "source": [
        "# PARSEAMENTO, DIV MAIN E PRODUCT CARD"
      ]
    },
    {
      "cell_type": "code",
      "execution_count": 6,
      "metadata": {
        "id": "y6xePml8n9El"
      },
      "outputs": [],
      "source": [
        "soup = BeautifulSoup(r.content,'html.parser')\n",
        "#soup"
      ]
    },
    {
      "cell_type": "code",
      "execution_count": 7,
      "metadata": {
        "id": "-QoeISNpn9El"
      },
      "outputs": [],
      "source": [
        "#main_div é uma lista que por sua vez vai possuir entre os seus elementos todos as subdivs\n",
        "main_div = soup.find_all('div',attrs={'class': 'Paper_Paper__4XALQ Paper_Paper__bordered__cl5Rh Card_Card__Zd8Ef Card_Card__clicable__ewI68 ProductCard_ProductCard__WWKKW'})"
      ]
    },
    {
      "cell_type": "code",
      "execution_count": 8,
      "metadata": {
        "id": "i0snaLEDr7Gr"
      },
      "outputs": [],
      "source": [
        "#entrando no \"cartao\" de cada produto\n",
        "product_card = []\n",
        "for i,v in enumerate(main_div):\n",
        "  product_card.append(main_div[i].find_all('div',class_='ProductCard_ProductCard_Body__bnVUn'))"
      ]
    },
    {
      "cell_type": "markdown",
      "metadata": {},
      "source": [
        "# url das tv's"
      ]
    },
    {
      "cell_type": "code",
      "execution_count": 63,
      "metadata": {},
      "outputs": [
        {
          "data": {
            "text/plain": [
              "'/tv/smart-tv-led-50-samsung-crystal-4k-hdr-un50cu7700gxzd?_lc=11'"
            ]
          },
          "execution_count": 63,
          "metadata": {},
          "output_type": "execute_result"
        }
      ],
      "source": [
        "a = main_div[0].find_all('a',class_='ProductCard_ProductCard_Inner__gapsh')[0]\n",
        "a['href']"
      ]
    },
    {
      "cell_type": "code",
      "execution_count": 85,
      "metadata": {},
      "outputs": [],
      "source": [
        "lst_urls = []\n",
        "for i,v in enumerate(main_div):\n",
        "    anchor = main_div[i].find_all(('a'),class_='ProductCard_ProductCard_Inner__gapsh')[0] #entra em cada anchor\n",
        "    href = anchor['href'] #puxa o href de cada (link da tv)\n",
        "\n",
        "    url = BASE_URL[:-3] + href #concatena a url base com o link raspado\n",
        "\n",
        "    lst_urls.append(url)"
      ]
    },
    {
      "cell_type": "code",
      "execution_count": 87,
      "metadata": {},
      "outputs": [
        {
          "data": {
            "text/plain": [
              "['https://www.buscape.com.br/tv/smart-tv-led-50-samsung-crystal-4k-hdr-un50cu7700gxzd?_lc=11',\n",
              " 'https://www.buscape.com.br/tv/smart-tv-led-43-samsung-crystal-4k-hdr-un43cu8000gxzd?_lc=11',\n",
              " 'https://www.buscape.com.br/tv/smart-tv-led-65-samsung-crystal-4k-hdr-un65cu8000gxzd?_lc=11',\n",
              " 'https://www.buscape.com.br/tv/smart-tv-led-50-samsung-crystal-4k-hdr-un50cu8000gxzd?_lc=11',\n",
              " 'https://www.buscape.com.br/tv/smart-tv-led-32-hq-hq32-3-hdmi?_lc=11',\n",
              " 'https://www.buscape.com.br/tv/smart-tv-led-43-samsung-crystal-4k-hdr-un43cu7700gxzd?_lc=11',\n",
              " 'https://www.buscape.com.br/tv/smart-tv-lcd-55-lg-thinq-ai-4k-hdr-55ur8750psa?_lc=11',\n",
              " 'https://www.buscape.com.br/tv/smart-tv-led-50-tcl-4k-50p635-3-hdmi?_lc=11',\n",
              " 'https://www.buscape.com.br/tv/smart-tv-led-65-samsung-crystal-4k-hdr-un65cu7700gxzd?_lc=11',\n",
              " 'https://www.buscape.com.br/tv/smart-tv-qled-55-tcl-4k-hdr-55c645-3-hdmi?_lc=11',\n",
              " 'https://www.buscape.com.br/tv/smart-tv-led-55-samsung-crystal-4k-hdr-un55cu7700gxzd?_lc=11',\n",
              " 'https://www.buscape.com.br/tv/smart-tv-qled-55-samsung-4k-qn55q65cagxzd-3-hdmi?_lc=11',\n",
              " 'https://www.buscape.com.br/tv/smart-tv-oled-evo-55-lg-thinq-ai-4k-hdr-oled55c3psa?_lc=11',\n",
              " 'https://www.buscape.com.br/tv/smart-tv-led-75-samsung-crystal-4k-hdr-un75cu8000gxzd?_lc=11',\n",
              " 'https://www.buscape.com.br/tv/smart-tv-nano-cristal-65-lg-4k-hdr-65nano77sra-3-hdmi?_lc=11',\n",
              " 'https://www.buscape.com.br/tv/smart-tv-led-32-tcl-full-hd-hdr-32s5400af-2-hdmi?_lc=11',\n",
              " 'https://www.buscape.com.br/tv/smart-tv-mini-led-50-lg-thinq-ai-4k-hdr-50nano77sra?_lc=11',\n",
              " 'https://www.buscape.com.br/tv/smart-tv-led-32-samsung-serie-4-un32t4300agxzd-2-hdmi?_lc=11',\n",
              " 'https://www.buscape.com.br/tv/smart-tv-led-43-lg-thinq-ai-4k-hdr-43ur7800psa?_lc=11',\n",
              " 'https://www.buscape.com.br/tv/smart-tv-nano-cristal-55-lg-4k-hdr-55nano77sra?_lc=11',\n",
              " 'https://www.buscape.com.br/tv/smart-tv-neo-qled-50-samsung-4k-quantum-hdr-qn50qn90cagxzd-4-hdmi?_lc=11',\n",
              " 'https://www.buscape.com.br/tv/smart-tv-led-50-lg-thinq-ai-4k-hdr-50ur8750psa?_lc=11',\n",
              " 'https://www.buscape.com.br/tv/smart-tv-led-43-aoc-full-hd-43s5135-78g-3-hdmi?_lc=11',\n",
              " 'https://www.buscape.com.br/tv/smart-tv-led-55-samsung-crystal-4k-hdr-un55cu8000gxzd?_lc=11']"
            ]
          },
          "execution_count": 87,
          "metadata": {},
          "output_type": "execute_result"
        }
      ],
      "source": [
        "lst_urls"
      ]
    },
    {
      "cell_type": "markdown",
      "metadata": {
        "id": "AL-opkzqEapE"
      },
      "source": [
        "# NOMES DAS TV's"
      ]
    },
    {
      "cell_type": "code",
      "execution_count": 9,
      "metadata": {
        "id": "I7v-s_cI5nsW"
      },
      "outputs": [],
      "source": [
        "\n",
        "lst_names = []\n",
        "# retirando o nome da TV no anuncio\n",
        "for i,v in enumerate(product_card):\n",
        "  # dentro de cada cartao, entramos na div que possui o nome dela\n",
        "  name_obj = product_card[i][0].find_all('div', class_='ProductCard_ProductCard_NameWrapper__45Z01') # objeto que possui o nome\n",
        "  name = name_obj[0].text # nome de fato\n",
        "\n",
        "  lst_names.append(name)"
      ]
    },
    {
      "cell_type": "code",
      "execution_count": 10,
      "metadata": {
        "colab": {
          "base_uri": "https://localhost:8080/"
        },
        "id": "cH3EZFi_BAHW",
        "outputId": "8ca5b422-55e1-46bd-9a48-291b038d460b"
      },
      "outputs": [
        {
          "data": {
            "text/plain": [
              "['Smart TV LED 50\" Samsung Crystal 4K HDR UN50CU7700GXZD',\n",
              " 'Smart TV LED 43\" Samsung Crystal 4K HDR UN43CU8000GXZD',\n",
              " 'Smart TV LED 65\" Samsung Crystal 4K HDR UN65CU8000GXZD',\n",
              " 'Smart TV LED 50\" Samsung Crystal 4K HDR UN50CU8000GXZD',\n",
              " 'Smart TV LED 32\" HQ HQ324 (139)',\n",
              " 'Smart TV LED 43\" Samsung Crystal 4K HDR UN43CU7700GXZD',\n",
              " 'Smart TV LED 55\" LG ThinQ AI 4K HDR 55UR8750PSA',\n",
              " 'Smart TV LED 50\" TCL 4K HDR 50P635',\n",
              " 'Smart TV LED 65\" Samsung Crystal 4K HDR UN65CU7700GXZD',\n",
              " 'Smart TV QLED 55\" TCL 4K HDR 55C645',\n",
              " 'Smart TV LED 55\" Samsung Crystal 4K HDR UN55CU7700GXZD',\n",
              " 'Smart TV QLED 55\" Samsung 4K Quantum HDR QN55Q65CAGXZD',\n",
              " 'Smart TV OLED Evo 55\" LG ThinQ AI 4K HDR OLED55C3PSA',\n",
              " 'Smart TV LED 75\" Samsung Crystal 4K HDR UN75CU8000GXZD',\n",
              " 'Smart TV Nano Cristal 65\" LG 4K HDR 65NANO77SRA',\n",
              " 'Smart TV LED 32\" TCL Full HD HDR 32S5400AF',\n",
              " 'Smart TV Nano Cristal 50\" LG 4K HDR 50NANO77SRA',\n",
              " 'Smart TV LED 32\" Samsung HDR UN32T4300AGXZD',\n",
              " 'Smart TV LED 43\" LG ThinQ AI 4K HDR 43UR7800PSA',\n",
              " 'Smart TV Nano Cristal 55\" LG 4K HDR 55NANO77SRA',\n",
              " 'Smart TV Neo QLED 50\" Samsung 4K Quantum HDR QN50QN90CAGXZD',\n",
              " 'Smart TV LED 50\" LG ThinQ AI 4K HDR 50UR8750PSA',\n",
              " 'Smart TV LED 43\" AOC Full HD 43S5135/78G',\n",
              " 'Smart TV LED 55\" Samsung Crystal 4K HDR UN55CU8000GXZD']"
            ]
          },
          "execution_count": 10,
          "metadata": {},
          "output_type": "execute_result"
        }
      ],
      "source": [
        "lst_names"
      ]
    },
    {
      "cell_type": "markdown",
      "metadata": {
        "id": "27d7xQE5Ehlr"
      },
      "source": [
        "# PREÇOS DAS TV's"
      ]
    },
    {
      "cell_type": "code",
      "execution_count": 11,
      "metadata": {
        "id": "hcNqa6wpEkHD"
      },
      "outputs": [],
      "source": [
        "lst_price = []\n",
        "for i,v in enumerate(product_card):\n",
        "  price_obj = product_card[i][0].find_all('p',class_='Text_Text__ARJdp Text_MobileHeadingS__HEz7L')\n",
        "  lst_price.append(price_obj[0].text)"
      ]
    },
    {
      "cell_type": "code",
      "execution_count": 12,
      "metadata": {
        "colab": {
          "base_uri": "https://localhost:8080/"
        },
        "id": "k-44O-JXElBS",
        "outputId": "713e3141-e08a-4c2d-b14e-53d1fa8844dc"
      },
      "outputs": [
        {
          "data": {
            "text/plain": [
              "['R$ 2.159,00',\n",
              " 'R$ 1.799,10',\n",
              " 'R$ 3.112,71',\n",
              " 'R$ 2.259,00',\n",
              " 'R$ 849,00',\n",
              " 'R$ 1.789,00',\n",
              " 'R$ 2.399,00',\n",
              " 'R$ 1.749,44',\n",
              " 'R$ 3.199,98',\n",
              " 'R$ 2.469,05',\n",
              " 'R$ 2.398,98',\n",
              " 'R$ 2.999,00',\n",
              " 'R$ 5.799,00',\n",
              " 'R$ 4.844,05',\n",
              " 'R$ 3.383,10',\n",
              " 'R$ 1.039,00',\n",
              " 'R$ 2.326,55',\n",
              " 'R$ 1.016,10',\n",
              " 'R$ 1.799,00',\n",
              " 'R$ 2.499,00',\n",
              " 'R$ 3.899,00',\n",
              " 'R$ 2.249,10',\n",
              " 'R$ 1.375,40',\n",
              " 'R$ 2.499,00']"
            ]
          },
          "execution_count": 12,
          "metadata": {},
          "output_type": "execute_result"
        }
      ],
      "source": [
        "lst_price"
      ]
    },
    {
      "cell_type": "markdown",
      "metadata": {
        "id": "naIdu1yHMO5Q"
      },
      "source": [
        "# POLEGADAS\n",
        "- vamos usar o \" como delimitador e supomos que as polegadas têm 2 algarismos"
      ]
    },
    {
      "cell_type": "code",
      "execution_count": 13,
      "metadata": {
        "id": "RxnIu9G0MOUg"
      },
      "outputs": [],
      "source": [
        "lst_pol = []\n",
        "for i in lst_names:\n",
        "  delimitador = i.find('\"')\n",
        "  lst_pol.append(i[(delimitador - 2):delimitador])\n"
      ]
    },
    {
      "cell_type": "code",
      "execution_count": 14,
      "metadata": {
        "id": "5KseDRjWPBTI"
      },
      "outputs": [
        {
          "data": {
            "text/plain": [
              "['50',\n",
              " '43',\n",
              " '65',\n",
              " '50',\n",
              " '32',\n",
              " '43',\n",
              " '55',\n",
              " '50',\n",
              " '65',\n",
              " '55',\n",
              " '55',\n",
              " '55',\n",
              " '55',\n",
              " '75',\n",
              " '65',\n",
              " '32',\n",
              " '50',\n",
              " '32',\n",
              " '43',\n",
              " '55',\n",
              " '50',\n",
              " '50',\n",
              " '43',\n",
              " '55']"
            ]
          },
          "execution_count": 14,
          "metadata": {},
          "output_type": "execute_result"
        }
      ],
      "source": [
        "lst_pol"
      ]
    },
    {
      "cell_type": "markdown",
      "metadata": {
        "id": "Bco9Mhy5Qnps"
      },
      "source": [
        "# MARCA\n",
        "- exemplo: Smart TV LED 65\" HQ 4K HDR HQS65NKH\n",
        "  - usaremos o \" como delimitador e o espaço em branco como delimitador final"
      ]
    },
    {
      "cell_type": "code",
      "execution_count": 32,
      "metadata": {
        "colab": {
          "base_uri": "https://localhost:8080/"
        },
        "id": "CO5nhNXMQpW7",
        "outputId": "ed3d7312-02e3-412b-c452-d7923c78c5e3"
      },
      "outputs": [],
      "source": [
        "lst_marcas = []\n",
        "for i in lst_names: \n",
        "  #toma o \" como delimitador e soma + 2 para o encaixar ao index \n",
        "  first_delimitador = (i.find('\"'))+2\n",
        "\n",
        "  # fatia os elementos partindo do delimitador e então usa o 'partition' para separar em 3 e retirar o primeiro elemento da tupla gerada\n",
        "  marca = i[first_delimitador:].partition(' ')[0]\n",
        "\n",
        "  lst_marcas.append(marca)\n",
        "\n",
        "\n",
        "\n"
      ]
    },
    {
      "cell_type": "code",
      "execution_count": 33,
      "metadata": {
        "id": "dRni9OrfVJiq"
      },
      "outputs": [
        {
          "data": {
            "text/plain": [
              "['Samsung',\n",
              " 'Samsung',\n",
              " 'Samsung',\n",
              " 'Samsung',\n",
              " 'HQ',\n",
              " 'Samsung',\n",
              " 'LG',\n",
              " 'TCL',\n",
              " 'Samsung',\n",
              " 'TCL',\n",
              " 'Samsung',\n",
              " 'Samsung',\n",
              " 'LG',\n",
              " 'Samsung',\n",
              " 'LG',\n",
              " 'TCL',\n",
              " 'LG',\n",
              " 'Samsung',\n",
              " 'LG',\n",
              " 'LG',\n",
              " 'Samsung',\n",
              " 'LG',\n",
              " 'AOC',\n",
              " 'Samsung']"
            ]
          },
          "execution_count": 33,
          "metadata": {},
          "output_type": "execute_result"
        }
      ],
      "source": [
        "lst_marcas"
      ]
    },
    {
      "cell_type": "markdown",
      "metadata": {
        "id": "ZoRDTrfVMLVX"
      },
      "source": [
        "# montagem do df"
      ]
    },
    {
      "cell_type": "code",
      "execution_count": 94,
      "metadata": {
        "id": "rLTFC4y9F7iG"
      },
      "outputs": [],
      "source": [
        "schema = {'televisores': lst_names,\n",
        "      'precos': lst_price,\n",
        "      'polegadas':lst_pol,\n",
        "      'marca':lst_marcas,\n",
        "      'url':lst_urls}\n"
      ]
    },
    {
      "cell_type": "code",
      "execution_count": 38,
      "metadata": {
        "id": "y-NxjQ3FH1La"
      },
      "outputs": [],
      "source": [
        "import pandas as pd"
      ]
    },
    {
      "cell_type": "code",
      "execution_count": 95,
      "metadata": {
        "colab": {
          "base_uri": "https://localhost:8080/",
          "height": 652
        },
        "id": "HHwkhZjMH9D6",
        "outputId": "75ca120f-f7ee-4ddd-efb1-ff90c1a5062c"
      },
      "outputs": [
        {
          "data": {
            "text/html": [
              "<div>\n",
              "<style scoped>\n",
              "    .dataframe tbody tr th:only-of-type {\n",
              "        vertical-align: middle;\n",
              "    }\n",
              "\n",
              "    .dataframe tbody tr th {\n",
              "        vertical-align: top;\n",
              "    }\n",
              "\n",
              "    .dataframe thead th {\n",
              "        text-align: right;\n",
              "    }\n",
              "</style>\n",
              "<table border=\"1\" class=\"dataframe\">\n",
              "  <thead>\n",
              "    <tr style=\"text-align: right;\">\n",
              "      <th></th>\n",
              "      <th>televisores</th>\n",
              "      <th>precos</th>\n",
              "      <th>polegadas</th>\n",
              "      <th>marca</th>\n",
              "      <th>url</th>\n",
              "    </tr>\n",
              "  </thead>\n",
              "  <tbody>\n",
              "    <tr>\n",
              "      <th>0</th>\n",
              "      <td>Smart TV LED 50\" Samsung Crystal 4K HDR UN50CU...</td>\n",
              "      <td>R$ 2.159,00</td>\n",
              "      <td>50</td>\n",
              "      <td>Samsung</td>\n",
              "      <td>https://www.buscape.com.br/tv/smart-tv-led-50-...</td>\n",
              "    </tr>\n",
              "    <tr>\n",
              "      <th>1</th>\n",
              "      <td>Smart TV LED 43\" Samsung Crystal 4K HDR UN43CU...</td>\n",
              "      <td>R$ 1.799,10</td>\n",
              "      <td>43</td>\n",
              "      <td>Samsung</td>\n",
              "      <td>https://www.buscape.com.br/tv/smart-tv-led-43-...</td>\n",
              "    </tr>\n",
              "    <tr>\n",
              "      <th>2</th>\n",
              "      <td>Smart TV LED 65\" Samsung Crystal 4K HDR UN65CU...</td>\n",
              "      <td>R$ 3.112,71</td>\n",
              "      <td>65</td>\n",
              "      <td>Samsung</td>\n",
              "      <td>https://www.buscape.com.br/tv/smart-tv-led-65-...</td>\n",
              "    </tr>\n",
              "    <tr>\n",
              "      <th>3</th>\n",
              "      <td>Smart TV LED 50\" Samsung Crystal 4K HDR UN50CU...</td>\n",
              "      <td>R$ 2.259,00</td>\n",
              "      <td>50</td>\n",
              "      <td>Samsung</td>\n",
              "      <td>https://www.buscape.com.br/tv/smart-tv-led-50-...</td>\n",
              "    </tr>\n",
              "    <tr>\n",
              "      <th>4</th>\n",
              "      <td>Smart TV LED 32\" HQ HQ324 (139)</td>\n",
              "      <td>R$ 849,00</td>\n",
              "      <td>32</td>\n",
              "      <td>HQ</td>\n",
              "      <td>https://www.buscape.com.br/tv/smart-tv-led-32-...</td>\n",
              "    </tr>\n",
              "    <tr>\n",
              "      <th>5</th>\n",
              "      <td>Smart TV LED 43\" Samsung Crystal 4K HDR UN43CU...</td>\n",
              "      <td>R$ 1.789,00</td>\n",
              "      <td>43</td>\n",
              "      <td>Samsung</td>\n",
              "      <td>https://www.buscape.com.br/tv/smart-tv-led-43-...</td>\n",
              "    </tr>\n",
              "    <tr>\n",
              "      <th>6</th>\n",
              "      <td>Smart TV LED 55\" LG ThinQ AI 4K HDR 55UR8750PSA</td>\n",
              "      <td>R$ 2.399,00</td>\n",
              "      <td>55</td>\n",
              "      <td>LG</td>\n",
              "      <td>https://www.buscape.com.br/tv/smart-tv-lcd-55-...</td>\n",
              "    </tr>\n",
              "    <tr>\n",
              "      <th>7</th>\n",
              "      <td>Smart TV LED 50\" TCL 4K HDR 50P635</td>\n",
              "      <td>R$ 1.749,44</td>\n",
              "      <td>50</td>\n",
              "      <td>TCL</td>\n",
              "      <td>https://www.buscape.com.br/tv/smart-tv-led-50-...</td>\n",
              "    </tr>\n",
              "    <tr>\n",
              "      <th>8</th>\n",
              "      <td>Smart TV LED 65\" Samsung Crystal 4K HDR UN65CU...</td>\n",
              "      <td>R$ 3.199,98</td>\n",
              "      <td>65</td>\n",
              "      <td>Samsung</td>\n",
              "      <td>https://www.buscape.com.br/tv/smart-tv-led-65-...</td>\n",
              "    </tr>\n",
              "    <tr>\n",
              "      <th>9</th>\n",
              "      <td>Smart TV QLED 55\" TCL 4K HDR 55C645</td>\n",
              "      <td>R$ 2.469,05</td>\n",
              "      <td>55</td>\n",
              "      <td>TCL</td>\n",
              "      <td>https://www.buscape.com.br/tv/smart-tv-qled-55...</td>\n",
              "    </tr>\n",
              "    <tr>\n",
              "      <th>10</th>\n",
              "      <td>Smart TV LED 55\" Samsung Crystal 4K HDR UN55CU...</td>\n",
              "      <td>R$ 2.398,98</td>\n",
              "      <td>55</td>\n",
              "      <td>Samsung</td>\n",
              "      <td>https://www.buscape.com.br/tv/smart-tv-led-55-...</td>\n",
              "    </tr>\n",
              "    <tr>\n",
              "      <th>11</th>\n",
              "      <td>Smart TV QLED 55\" Samsung 4K Quantum HDR QN55Q...</td>\n",
              "      <td>R$ 2.999,00</td>\n",
              "      <td>55</td>\n",
              "      <td>Samsung</td>\n",
              "      <td>https://www.buscape.com.br/tv/smart-tv-qled-55...</td>\n",
              "    </tr>\n",
              "    <tr>\n",
              "      <th>12</th>\n",
              "      <td>Smart TV OLED Evo 55\" LG ThinQ AI 4K HDR OLED5...</td>\n",
              "      <td>R$ 5.799,00</td>\n",
              "      <td>55</td>\n",
              "      <td>LG</td>\n",
              "      <td>https://www.buscape.com.br/tv/smart-tv-oled-ev...</td>\n",
              "    </tr>\n",
              "    <tr>\n",
              "      <th>13</th>\n",
              "      <td>Smart TV LED 75\" Samsung Crystal 4K HDR UN75CU...</td>\n",
              "      <td>R$ 4.844,05</td>\n",
              "      <td>75</td>\n",
              "      <td>Samsung</td>\n",
              "      <td>https://www.buscape.com.br/tv/smart-tv-led-75-...</td>\n",
              "    </tr>\n",
              "    <tr>\n",
              "      <th>14</th>\n",
              "      <td>Smart TV Nano Cristal 65\" LG 4K HDR 65NANO77SRA</td>\n",
              "      <td>R$ 3.383,10</td>\n",
              "      <td>65</td>\n",
              "      <td>LG</td>\n",
              "      <td>https://www.buscape.com.br/tv/smart-tv-nano-cr...</td>\n",
              "    </tr>\n",
              "    <tr>\n",
              "      <th>15</th>\n",
              "      <td>Smart TV LED 32\" TCL Full HD HDR 32S5400AF</td>\n",
              "      <td>R$ 1.039,00</td>\n",
              "      <td>32</td>\n",
              "      <td>TCL</td>\n",
              "      <td>https://www.buscape.com.br/tv/smart-tv-led-32-...</td>\n",
              "    </tr>\n",
              "    <tr>\n",
              "      <th>16</th>\n",
              "      <td>Smart TV Nano Cristal 50\" LG 4K HDR 50NANO77SRA</td>\n",
              "      <td>R$ 2.326,55</td>\n",
              "      <td>50</td>\n",
              "      <td>LG</td>\n",
              "      <td>https://www.buscape.com.br/tv/smart-tv-mini-le...</td>\n",
              "    </tr>\n",
              "    <tr>\n",
              "      <th>17</th>\n",
              "      <td>Smart TV LED 32\" Samsung HDR UN32T4300AGXZD</td>\n",
              "      <td>R$ 1.016,10</td>\n",
              "      <td>32</td>\n",
              "      <td>Samsung</td>\n",
              "      <td>https://www.buscape.com.br/tv/smart-tv-led-32-...</td>\n",
              "    </tr>\n",
              "    <tr>\n",
              "      <th>18</th>\n",
              "      <td>Smart TV LED 43\" LG ThinQ AI 4K HDR 43UR7800PSA</td>\n",
              "      <td>R$ 1.799,00</td>\n",
              "      <td>43</td>\n",
              "      <td>LG</td>\n",
              "      <td>https://www.buscape.com.br/tv/smart-tv-led-43-...</td>\n",
              "    </tr>\n",
              "    <tr>\n",
              "      <th>19</th>\n",
              "      <td>Smart TV Nano Cristal 55\" LG 4K HDR 55NANO77SRA</td>\n",
              "      <td>R$ 2.499,00</td>\n",
              "      <td>55</td>\n",
              "      <td>LG</td>\n",
              "      <td>https://www.buscape.com.br/tv/smart-tv-nano-cr...</td>\n",
              "    </tr>\n",
              "    <tr>\n",
              "      <th>20</th>\n",
              "      <td>Smart TV Neo QLED 50\" Samsung 4K Quantum HDR Q...</td>\n",
              "      <td>R$ 3.899,00</td>\n",
              "      <td>50</td>\n",
              "      <td>Samsung</td>\n",
              "      <td>https://www.buscape.com.br/tv/smart-tv-neo-qle...</td>\n",
              "    </tr>\n",
              "    <tr>\n",
              "      <th>21</th>\n",
              "      <td>Smart TV LED 50\" LG ThinQ AI 4K HDR 50UR8750PSA</td>\n",
              "      <td>R$ 2.249,10</td>\n",
              "      <td>50</td>\n",
              "      <td>LG</td>\n",
              "      <td>https://www.buscape.com.br/tv/smart-tv-led-50-...</td>\n",
              "    </tr>\n",
              "    <tr>\n",
              "      <th>22</th>\n",
              "      <td>Smart TV LED 43\" AOC Full HD 43S5135/78G</td>\n",
              "      <td>R$ 1.375,40</td>\n",
              "      <td>43</td>\n",
              "      <td>AOC</td>\n",
              "      <td>https://www.buscape.com.br/tv/smart-tv-led-43-...</td>\n",
              "    </tr>\n",
              "    <tr>\n",
              "      <th>23</th>\n",
              "      <td>Smart TV LED 55\" Samsung Crystal 4K HDR UN55CU...</td>\n",
              "      <td>R$ 2.499,00</td>\n",
              "      <td>55</td>\n",
              "      <td>Samsung</td>\n",
              "      <td>https://www.buscape.com.br/tv/smart-tv-led-55-...</td>\n",
              "    </tr>\n",
              "  </tbody>\n",
              "</table>\n",
              "</div>"
            ],
            "text/plain": [
              "                                          televisores       precos polegadas  \\\n",
              "0   Smart TV LED 50\" Samsung Crystal 4K HDR UN50CU...  R$ 2.159,00        50   \n",
              "1   Smart TV LED 43\" Samsung Crystal 4K HDR UN43CU...  R$ 1.799,10        43   \n",
              "2   Smart TV LED 65\" Samsung Crystal 4K HDR UN65CU...  R$ 3.112,71        65   \n",
              "3   Smart TV LED 50\" Samsung Crystal 4K HDR UN50CU...  R$ 2.259,00        50   \n",
              "4                     Smart TV LED 32\" HQ HQ324 (139)    R$ 849,00        32   \n",
              "5   Smart TV LED 43\" Samsung Crystal 4K HDR UN43CU...  R$ 1.789,00        43   \n",
              "6     Smart TV LED 55\" LG ThinQ AI 4K HDR 55UR8750PSA  R$ 2.399,00        55   \n",
              "7                  Smart TV LED 50\" TCL 4K HDR 50P635  R$ 1.749,44        50   \n",
              "8   Smart TV LED 65\" Samsung Crystal 4K HDR UN65CU...  R$ 3.199,98        65   \n",
              "9                 Smart TV QLED 55\" TCL 4K HDR 55C645  R$ 2.469,05        55   \n",
              "10  Smart TV LED 55\" Samsung Crystal 4K HDR UN55CU...  R$ 2.398,98        55   \n",
              "11  Smart TV QLED 55\" Samsung 4K Quantum HDR QN55Q...  R$ 2.999,00        55   \n",
              "12  Smart TV OLED Evo 55\" LG ThinQ AI 4K HDR OLED5...  R$ 5.799,00        55   \n",
              "13  Smart TV LED 75\" Samsung Crystal 4K HDR UN75CU...  R$ 4.844,05        75   \n",
              "14    Smart TV Nano Cristal 65\" LG 4K HDR 65NANO77SRA  R$ 3.383,10        65   \n",
              "15         Smart TV LED 32\" TCL Full HD HDR 32S5400AF  R$ 1.039,00        32   \n",
              "16    Smart TV Nano Cristal 50\" LG 4K HDR 50NANO77SRA  R$ 2.326,55        50   \n",
              "17        Smart TV LED 32\" Samsung HDR UN32T4300AGXZD  R$ 1.016,10        32   \n",
              "18    Smart TV LED 43\" LG ThinQ AI 4K HDR 43UR7800PSA  R$ 1.799,00        43   \n",
              "19    Smart TV Nano Cristal 55\" LG 4K HDR 55NANO77SRA  R$ 2.499,00        55   \n",
              "20  Smart TV Neo QLED 50\" Samsung 4K Quantum HDR Q...  R$ 3.899,00        50   \n",
              "21    Smart TV LED 50\" LG ThinQ AI 4K HDR 50UR8750PSA  R$ 2.249,10        50   \n",
              "22           Smart TV LED 43\" AOC Full HD 43S5135/78G  R$ 1.375,40        43   \n",
              "23  Smart TV LED 55\" Samsung Crystal 4K HDR UN55CU...  R$ 2.499,00        55   \n",
              "\n",
              "      marca                                                url  \n",
              "0   Samsung  https://www.buscape.com.br/tv/smart-tv-led-50-...  \n",
              "1   Samsung  https://www.buscape.com.br/tv/smart-tv-led-43-...  \n",
              "2   Samsung  https://www.buscape.com.br/tv/smart-tv-led-65-...  \n",
              "3   Samsung  https://www.buscape.com.br/tv/smart-tv-led-50-...  \n",
              "4        HQ  https://www.buscape.com.br/tv/smart-tv-led-32-...  \n",
              "5   Samsung  https://www.buscape.com.br/tv/smart-tv-led-43-...  \n",
              "6        LG  https://www.buscape.com.br/tv/smart-tv-lcd-55-...  \n",
              "7       TCL  https://www.buscape.com.br/tv/smart-tv-led-50-...  \n",
              "8   Samsung  https://www.buscape.com.br/tv/smart-tv-led-65-...  \n",
              "9       TCL  https://www.buscape.com.br/tv/smart-tv-qled-55...  \n",
              "10  Samsung  https://www.buscape.com.br/tv/smart-tv-led-55-...  \n",
              "11  Samsung  https://www.buscape.com.br/tv/smart-tv-qled-55...  \n",
              "12       LG  https://www.buscape.com.br/tv/smart-tv-oled-ev...  \n",
              "13  Samsung  https://www.buscape.com.br/tv/smart-tv-led-75-...  \n",
              "14       LG  https://www.buscape.com.br/tv/smart-tv-nano-cr...  \n",
              "15      TCL  https://www.buscape.com.br/tv/smart-tv-led-32-...  \n",
              "16       LG  https://www.buscape.com.br/tv/smart-tv-mini-le...  \n",
              "17  Samsung  https://www.buscape.com.br/tv/smart-tv-led-32-...  \n",
              "18       LG  https://www.buscape.com.br/tv/smart-tv-led-43-...  \n",
              "19       LG  https://www.buscape.com.br/tv/smart-tv-nano-cr...  \n",
              "20  Samsung  https://www.buscape.com.br/tv/smart-tv-neo-qle...  \n",
              "21       LG  https://www.buscape.com.br/tv/smart-tv-led-50-...  \n",
              "22      AOC  https://www.buscape.com.br/tv/smart-tv-led-43-...  \n",
              "23  Samsung  https://www.buscape.com.br/tv/smart-tv-led-55-...  "
            ]
          },
          "execution_count": 95,
          "metadata": {},
          "output_type": "execute_result"
        }
      ],
      "source": [
        "pd.DataFrame(schema)"
      ]
    },
    {
      "cell_type": "code",
      "execution_count": 178,
      "metadata": {
        "id": "q7Qkni0KIOUl"
      },
      "outputs": [],
      "source": []
    }
  ],
  "metadata": {
    "colab": {
      "include_colab_link": true,
      "provenance": []
    },
    "kernelspec": {
      "display_name": "venv",
      "language": "python",
      "name": "python3"
    },
    "language_info": {
      "codemirror_mode": {
        "name": "ipython",
        "version": 3
      },
      "file_extension": ".py",
      "mimetype": "text/x-python",
      "name": "python",
      "nbconvert_exporter": "python",
      "pygments_lexer": "ipython3",
      "version": "3.11.5"
    }
  },
  "nbformat": 4,
  "nbformat_minor": 0
}
