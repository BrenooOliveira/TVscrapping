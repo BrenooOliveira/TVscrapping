{
  "cells": [
    {
      "cell_type": "markdown",
      "metadata": {
        "id": "view-in-github",
        "colab_type": "text"
      },
      "source": [
        "<a href=\"https://colab.research.google.com/github/BrenooOliveira/TVscrapping/blob/main/tests/app.ipynb\" target=\"_parent\"><img src=\"https://colab.research.google.com/assets/colab-badge.svg\" alt=\"Open In Colab\"/></a>"
      ]
    },
    {
      "cell_type": "code",
      "execution_count": 26,
      "metadata": {
        "id": "zreIHg9Jn9Ej"
      },
      "outputs": [],
      "source": [
        "import requests\n",
        "from bs4 import BeautifulSoup\n"
      ]
    },
    {
      "cell_type": "markdown",
      "source": [
        "# REQUISIÇÃO"
      ],
      "metadata": {
        "id": "XQ366i9qIrU_"
      }
    },
    {
      "cell_type": "code",
      "source": [
        "BASE_URL = 'https://www.buscape.com.br/tv'\n",
        "page = 1"
      ],
      "metadata": {
        "id": "AnrUiyy0oWXa"
      },
      "execution_count": 158,
      "outputs": []
    },
    {
      "cell_type": "code",
      "execution_count": 159,
      "metadata": {
        "id": "DgftrvEDn9Ek",
        "outputId": "54102227-46fc-4e6e-e3c6-ca60859f56e5",
        "colab": {
          "base_uri": "https://localhost:8080/",
          "height": 36
        }
      },
      "outputs": [
        {
          "output_type": "execute_result",
          "data": {
            "text/plain": [
              "'https://www.buscape.com.br/tv?page=1'"
            ],
            "application/vnd.google.colaboratory.intrinsic+json": {
              "type": "string"
            }
          },
          "metadata": {},
          "execution_count": 159
        }
      ],
      "source": [
        "url = f'{BASE_URL}?page={page}'\n",
        "url"
      ]
    },
    {
      "cell_type": "code",
      "execution_count": 160,
      "metadata": {
        "id": "tMIYTJUSn9El"
      },
      "outputs": [],
      "source": [
        "r = requests.get(url)"
      ]
    },
    {
      "cell_type": "code",
      "source": [
        "r"
      ],
      "metadata": {
        "id": "O-T22Oovp6MK",
        "outputId": "3177a0df-3f8e-4003-f66d-eca1e84f6c6e",
        "colab": {
          "base_uri": "https://localhost:8080/"
        }
      },
      "execution_count": 161,
      "outputs": [
        {
          "output_type": "execute_result",
          "data": {
            "text/plain": [
              "<Response [200]>"
            ]
          },
          "metadata": {},
          "execution_count": 161
        }
      ]
    },
    {
      "cell_type": "markdown",
      "source": [
        "# PARSEAMENTO, DIV MAIN E PRODUCT CARD"
      ],
      "metadata": {
        "id": "VDCiyivZIvEn"
      }
    },
    {
      "cell_type": "code",
      "execution_count": 164,
      "metadata": {
        "id": "y6xePml8n9El"
      },
      "outputs": [],
      "source": [
        "soup = BeautifulSoup(r.content,'html.parser')\n",
        "#soup"
      ]
    },
    {
      "cell_type": "code",
      "execution_count": 165,
      "metadata": {
        "id": "-QoeISNpn9El"
      },
      "outputs": [],
      "source": [
        "#main_div é uma lista que por sua vez vai possuir entre os seus elementos todos as subdivs\n",
        "main_div = soup.find_all('div',attrs={'class': 'Paper_Paper__4XALQ Paper_Paper__bordered__cl5Rh Card_Card__Zd8Ef Card_Card__clicable__ewI68 ProductCard_ProductCard__WWKKW'})"
      ]
    },
    {
      "cell_type": "code",
      "source": [
        "#entrando no \"cartao\" de cada produto\n",
        "product_card = []\n",
        "for i,v in enumerate(main_div):\n",
        "  product_card.append(main_div[i].find_all('div',class_='ProductCard_ProductCard_Body__bnVUn'))"
      ],
      "metadata": {
        "id": "i0snaLEDr7Gr"
      },
      "execution_count": 166,
      "outputs": []
    },
    {
      "cell_type": "markdown",
      "source": [
        "# NOMES DAS TV's"
      ],
      "metadata": {
        "id": "AL-opkzqEapE"
      }
    },
    {
      "cell_type": "code",
      "source": [
        "\n",
        "lst_names = []\n",
        "# retirando o nome da TV no anuncio\n",
        "for i,v in enumerate(product_card):\n",
        "  # dentro de cada cartao, entramos na div que possui o nome dela\n",
        "  name_obj = product_card[i][0].find_all('div', class_='ProductCard_ProductCard_NameWrapper__45Z01') # objeto que possui o nome\n",
        "  name = name_obj[0].text # nome de fato\n",
        "\n",
        "  lst_names.append(name)"
      ],
      "metadata": {
        "id": "I7v-s_cI5nsW"
      },
      "execution_count": 167,
      "outputs": []
    },
    {
      "cell_type": "code",
      "source": [
        "lst_names"
      ],
      "metadata": {
        "id": "cH3EZFi_BAHW",
        "outputId": "8ca5b422-55e1-46bd-9a48-291b038d460b",
        "colab": {
          "base_uri": "https://localhost:8080/"
        }
      },
      "execution_count": 168,
      "outputs": [
        {
          "output_type": "execute_result",
          "data": {
            "text/plain": [
              "['Smart TV LED 50\" Samsung Crystal 4K HDR UN50CU7700GXZD',\n",
              " 'Smart TV LED 43\" Samsung Crystal 4K HDR UN43CU8000GXZD',\n",
              " 'Smart TV LED 65\" Samsung Crystal 4K HDR UN65CU8000GXZD',\n",
              " 'Smart TV LED 50\" Samsung Crystal 4K HDR UN50CU8000GXZD',\n",
              " 'Smart TV LED 32\" HQ HQ324 (139)',\n",
              " 'Smart TV LED 43\" Samsung Crystal 4K HDR UN43CU7700GXZD',\n",
              " 'Smart TV LED 55\" LG ThinQ AI 4K HDR 55UR8750PSA',\n",
              " 'Smart TV LED 50\" TCL 4K HDR 50P635',\n",
              " 'Smart TV LED 65\" Samsung Crystal 4K HDR UN65CU7700GXZD',\n",
              " 'Smart TV QLED 55\" TCL 4K HDR 55C645',\n",
              " 'Smart TV LED 55\" Samsung Crystal 4K HDR UN55CU7700GXZD',\n",
              " 'Smart TV QLED 55\" Samsung 4K Quantum HDR QN55Q65CAGXZD',\n",
              " 'Smart TV OLED Evo 55\" LG ThinQ AI 4K HDR OLED55C3PSA',\n",
              " 'Smart TV LED 75\" Samsung Crystal 4K HDR UN75CU8000GXZD',\n",
              " 'Smart TV Nano Cristal 65\" LG 4K HDR 65NANO77SRA',\n",
              " 'Smart TV LED 32\" TCL Full HD HDR 32S5400AF',\n",
              " 'Smart TV Nano Cristal 50\" LG 4K HDR 50NANO77SRA',\n",
              " 'Smart TV LED 32\" Samsung HDR UN32T4300AGXZD',\n",
              " 'Smart TV LED 43\" LG ThinQ AI 4K HDR 43UR7800PSA',\n",
              " 'Smart TV Nano Cristal 55\" LG 4K HDR 55NANO77SRA',\n",
              " 'Smart TV Neo QLED 50\" Samsung 4K Quantum HDR QN50QN90CAGXZD',\n",
              " 'Smart TV LED 50\" LG ThinQ AI 4K HDR 50UR8750PSA',\n",
              " 'Smart TV LED 43\" AOC Full HD 43S5135/78G',\n",
              " 'Smart TV LED 55\" Samsung Crystal 4K HDR UN55CU8000GXZD']"
            ]
          },
          "metadata": {},
          "execution_count": 168
        }
      ]
    },
    {
      "cell_type": "markdown",
      "source": [
        "# PREÇOS DAS TV's"
      ],
      "metadata": {
        "id": "27d7xQE5Ehlr"
      }
    },
    {
      "cell_type": "code",
      "source": [
        "lst_price = []\n",
        "for i,v in enumerate(product_card):\n",
        "  price_obj = product_card[i][0].find_all('p',class_='Text_Text__ARJdp Text_MobileHeadingS__HEz7L')\n",
        "  lst_price.append(price_obj[0].text)"
      ],
      "metadata": {
        "id": "hcNqa6wpEkHD"
      },
      "execution_count": 174,
      "outputs": []
    },
    {
      "cell_type": "code",
      "source": [
        "lst_price"
      ],
      "metadata": {
        "id": "k-44O-JXElBS",
        "outputId": "713e3141-e08a-4c2d-b14e-53d1fa8844dc",
        "colab": {
          "base_uri": "https://localhost:8080/"
        }
      },
      "execution_count": 175,
      "outputs": [
        {
          "output_type": "execute_result",
          "data": {
            "text/plain": [
              "['R$ 2.159,00',\n",
              " 'R$ 1.799,10',\n",
              " 'R$ 3.112,71',\n",
              " 'R$ 2.259,00',\n",
              " 'R$ 849,00',\n",
              " 'R$ 1.789,00',\n",
              " 'R$ 2.399,00',\n",
              " 'R$ 1.749,44',\n",
              " 'R$ 3.199,98',\n",
              " 'R$ 2.469,05',\n",
              " 'R$ 2.398,98',\n",
              " 'R$ 2.999,00',\n",
              " 'R$ 5.799,00',\n",
              " 'R$ 4.844,05',\n",
              " 'R$ 3.383,10',\n",
              " 'R$ 1.039,00',\n",
              " 'R$ 2.326,55',\n",
              " 'R$ 1.016,10',\n",
              " 'R$ 1.799,00',\n",
              " 'R$ 2.499,00',\n",
              " 'R$ 3.899,00',\n",
              " 'R$ 2.249,10',\n",
              " 'R$ 1.424,05',\n",
              " 'R$ 2.499,00']"
            ]
          },
          "metadata": {},
          "execution_count": 175
        }
      ]
    },
    {
      "cell_type": "markdown",
      "source": [
        "# POLEGADAS\n",
        "- vamos usar o \" como delimitador e supomos que as polegadas têm 2 algarismos"
      ],
      "metadata": {
        "id": "naIdu1yHMO5Q"
      }
    },
    {
      "cell_type": "code",
      "source": [
        "lst_pol = []\n",
        "for i in lst_names:\n",
        "  delimitador = i.find('\"')\n",
        "  lst_pol.append(i[(delimitador - 2):delimitador])\n"
      ],
      "metadata": {
        "id": "RxnIu9G0MOUg"
      },
      "execution_count": 222,
      "outputs": []
    },
    {
      "cell_type": "code",
      "source": [
        "lst_pol"
      ],
      "metadata": {
        "id": "5KseDRjWPBTI"
      },
      "execution_count": null,
      "outputs": []
    },
    {
      "cell_type": "markdown",
      "source": [
        "# MARCA\n",
        "- exemplo: Smart TV LED 65\" HQ 4K HDR HQS65NKH\n",
        "  - usaremos o \" como delimitador e o espaço em branco como delimitador final"
      ],
      "metadata": {
        "id": "Bco9Mhy5Qnps"
      }
    },
    {
      "cell_type": "code",
      "source": [
        "lst_marcas = []\n",
        "for i in lst_names:\n",
        "  first_delimitador = (i.find('\"'))+2\n",
        "  print(a := i[first_delimitador:])\n",
        ""
      ],
      "metadata": {
        "id": "CO5nhNXMQpW7",
        "outputId": "ed3d7312-02e3-412b-c452-d7923c78c5e3",
        "colab": {
          "base_uri": "https://localhost:8080/"
        }
      },
      "execution_count": 232,
      "outputs": [
        {
          "output_type": "stream",
          "name": "stdout",
          "text": [
            "Samsung Crystal 4K HDR UN50CU7700GXZD\n",
            "Samsung Crystal 4K HDR UN43CU8000GXZD\n",
            "Samsung Crystal 4K HDR UN65CU8000GXZD\n",
            "Samsung Crystal 4K HDR UN50CU8000GXZD\n",
            "HQ HQ324 (139)\n",
            "Samsung Crystal 4K HDR UN43CU7700GXZD\n",
            "LG ThinQ AI 4K HDR 55UR8750PSA\n",
            "TCL 4K HDR 50P635\n",
            "Samsung Crystal 4K HDR UN65CU7700GXZD\n",
            "TCL 4K HDR 55C645\n",
            "Samsung Crystal 4K HDR UN55CU7700GXZD\n",
            "Samsung 4K Quantum HDR QN55Q65CAGXZD\n",
            "LG ThinQ AI 4K HDR OLED55C3PSA\n",
            "Samsung Crystal 4K HDR UN75CU8000GXZD\n",
            "LG 4K HDR 65NANO77SRA\n",
            "TCL Full HD HDR 32S5400AF\n",
            "LG 4K HDR 50NANO77SRA\n",
            "Samsung HDR UN32T4300AGXZD\n",
            "LG ThinQ AI 4K HDR 43UR7800PSA\n",
            "LG 4K HDR 55NANO77SRA\n",
            "Samsung 4K Quantum HDR QN50QN90CAGXZD\n",
            "LG ThinQ AI 4K HDR 50UR8750PSA\n",
            "AOC Full HD 43S5135/78G\n",
            "Samsung Crystal 4K HDR UN55CU8000GXZD\n"
          ]
        }
      ]
    },
    {
      "cell_type": "code",
      "source": [],
      "metadata": {
        "id": "dRni9OrfVJiq"
      },
      "execution_count": null,
      "outputs": []
    },
    {
      "cell_type": "code",
      "source": [
        "#a[0:i for i in a if i is not \" \"]\n",
        "\n",
        "for i in a:\n",
        "  print()"
      ],
      "metadata": {
        "id": "P8LBnto2ThLY",
        "outputId": "663088b5-32e8-42f0-c5de-18ba4783b84c",
        "colab": {
          "base_uri": "https://localhost:8080/",
          "height": 110
        }
      },
      "execution_count": 235,
      "outputs": [
        {
          "output_type": "error",
          "ename": "SyntaxError",
          "evalue": "invalid syntax (<ipython-input-235-040bd3fc541e>, line 1)",
          "traceback": [
            "\u001b[0;36m  File \u001b[0;32m\"<ipython-input-235-040bd3fc541e>\"\u001b[0;36m, line \u001b[0;32m1\u001b[0m\n\u001b[0;31m    a[0:i for i in a if i is not \" \"]\u001b[0m\n\u001b[0m          ^\u001b[0m\n\u001b[0;31mSyntaxError\u001b[0m\u001b[0;31m:\u001b[0m invalid syntax\n"
          ]
        }
      ]
    },
    {
      "cell_type": "markdown",
      "source": [
        "# montagem do df"
      ],
      "metadata": {
        "id": "ZoRDTrfVMLVX"
      }
    },
    {
      "cell_type": "code",
      "source": [
        "df = {'televisores': lst_names,\n",
        "      'precos': lst_price,\n",
        "      'polegadas':lst_pol}\n"
      ],
      "metadata": {
        "id": "rLTFC4y9F7iG"
      },
      "execution_count": 224,
      "outputs": []
    },
    {
      "cell_type": "code",
      "source": [
        "import pandas as pd"
      ],
      "metadata": {
        "id": "y-NxjQ3FH1La"
      },
      "execution_count": 225,
      "outputs": []
    },
    {
      "cell_type": "code",
      "source": [
        "pd.DataFrame(df)"
      ],
      "metadata": {
        "id": "HHwkhZjMH9D6",
        "outputId": "75ca120f-f7ee-4ddd-efb1-ff90c1a5062c",
        "colab": {
          "base_uri": "https://localhost:8080/",
          "height": 652
        }
      },
      "execution_count": 226,
      "outputs": [
        {
          "output_type": "execute_result",
          "data": {
            "text/plain": [
              "                                          televisores       precos polegadas\n",
              "0   Smart TV LED 50\" Samsung Crystal 4K HDR UN50CU...  R$ 2.159,00        50\n",
              "1   Smart TV LED 43\" Samsung Crystal 4K HDR UN43CU...  R$ 1.799,10        43\n",
              "2   Smart TV LED 65\" Samsung Crystal 4K HDR UN65CU...  R$ 3.112,71        65\n",
              "3   Smart TV LED 50\" Samsung Crystal 4K HDR UN50CU...  R$ 2.259,00        50\n",
              "4                     Smart TV LED 32\" HQ HQ324 (139)    R$ 849,00        32\n",
              "5   Smart TV LED 43\" Samsung Crystal 4K HDR UN43CU...  R$ 1.789,00        43\n",
              "6     Smart TV LED 55\" LG ThinQ AI 4K HDR 55UR8750PSA  R$ 2.399,00        55\n",
              "7                  Smart TV LED 50\" TCL 4K HDR 50P635  R$ 1.749,44        50\n",
              "8   Smart TV LED 65\" Samsung Crystal 4K HDR UN65CU...  R$ 3.199,98        65\n",
              "9                 Smart TV QLED 55\" TCL 4K HDR 55C645  R$ 2.469,05        55\n",
              "10  Smart TV LED 55\" Samsung Crystal 4K HDR UN55CU...  R$ 2.398,98        55\n",
              "11  Smart TV QLED 55\" Samsung 4K Quantum HDR QN55Q...  R$ 2.999,00        55\n",
              "12  Smart TV OLED Evo 55\" LG ThinQ AI 4K HDR OLED5...  R$ 5.799,00        55\n",
              "13  Smart TV LED 75\" Samsung Crystal 4K HDR UN75CU...  R$ 4.844,05        75\n",
              "14    Smart TV Nano Cristal 65\" LG 4K HDR 65NANO77SRA  R$ 3.383,10        65\n",
              "15         Smart TV LED 32\" TCL Full HD HDR 32S5400AF  R$ 1.039,00        32\n",
              "16    Smart TV Nano Cristal 50\" LG 4K HDR 50NANO77SRA  R$ 2.326,55        50\n",
              "17        Smart TV LED 32\" Samsung HDR UN32T4300AGXZD  R$ 1.016,10        32\n",
              "18    Smart TV LED 43\" LG ThinQ AI 4K HDR 43UR7800PSA  R$ 1.799,00        43\n",
              "19    Smart TV Nano Cristal 55\" LG 4K HDR 55NANO77SRA  R$ 2.499,00        55\n",
              "20  Smart TV Neo QLED 50\" Samsung 4K Quantum HDR Q...  R$ 3.899,00        50\n",
              "21    Smart TV LED 50\" LG ThinQ AI 4K HDR 50UR8750PSA  R$ 2.249,10        50\n",
              "22           Smart TV LED 43\" AOC Full HD 43S5135/78G  R$ 1.424,05        43\n",
              "23  Smart TV LED 55\" Samsung Crystal 4K HDR UN55CU...  R$ 2.499,00        55"
            ],
            "text/html": [
              "\n",
              "  <div id=\"df-e9c20063-ff55-4081-8c8a-2c4b003df657\" class=\"colab-df-container\">\n",
              "    <div>\n",
              "<style scoped>\n",
              "    .dataframe tbody tr th:only-of-type {\n",
              "        vertical-align: middle;\n",
              "    }\n",
              "\n",
              "    .dataframe tbody tr th {\n",
              "        vertical-align: top;\n",
              "    }\n",
              "\n",
              "    .dataframe thead th {\n",
              "        text-align: right;\n",
              "    }\n",
              "</style>\n",
              "<table border=\"1\" class=\"dataframe\">\n",
              "  <thead>\n",
              "    <tr style=\"text-align: right;\">\n",
              "      <th></th>\n",
              "      <th>televisores</th>\n",
              "      <th>precos</th>\n",
              "      <th>polegadas</th>\n",
              "    </tr>\n",
              "  </thead>\n",
              "  <tbody>\n",
              "    <tr>\n",
              "      <th>0</th>\n",
              "      <td>Smart TV LED 50\" Samsung Crystal 4K HDR UN50CU...</td>\n",
              "      <td>R$ 2.159,00</td>\n",
              "      <td>50</td>\n",
              "    </tr>\n",
              "    <tr>\n",
              "      <th>1</th>\n",
              "      <td>Smart TV LED 43\" Samsung Crystal 4K HDR UN43CU...</td>\n",
              "      <td>R$ 1.799,10</td>\n",
              "      <td>43</td>\n",
              "    </tr>\n",
              "    <tr>\n",
              "      <th>2</th>\n",
              "      <td>Smart TV LED 65\" Samsung Crystal 4K HDR UN65CU...</td>\n",
              "      <td>R$ 3.112,71</td>\n",
              "      <td>65</td>\n",
              "    </tr>\n",
              "    <tr>\n",
              "      <th>3</th>\n",
              "      <td>Smart TV LED 50\" Samsung Crystal 4K HDR UN50CU...</td>\n",
              "      <td>R$ 2.259,00</td>\n",
              "      <td>50</td>\n",
              "    </tr>\n",
              "    <tr>\n",
              "      <th>4</th>\n",
              "      <td>Smart TV LED 32\" HQ HQ324 (139)</td>\n",
              "      <td>R$ 849,00</td>\n",
              "      <td>32</td>\n",
              "    </tr>\n",
              "    <tr>\n",
              "      <th>5</th>\n",
              "      <td>Smart TV LED 43\" Samsung Crystal 4K HDR UN43CU...</td>\n",
              "      <td>R$ 1.789,00</td>\n",
              "      <td>43</td>\n",
              "    </tr>\n",
              "    <tr>\n",
              "      <th>6</th>\n",
              "      <td>Smart TV LED 55\" LG ThinQ AI 4K HDR 55UR8750PSA</td>\n",
              "      <td>R$ 2.399,00</td>\n",
              "      <td>55</td>\n",
              "    </tr>\n",
              "    <tr>\n",
              "      <th>7</th>\n",
              "      <td>Smart TV LED 50\" TCL 4K HDR 50P635</td>\n",
              "      <td>R$ 1.749,44</td>\n",
              "      <td>50</td>\n",
              "    </tr>\n",
              "    <tr>\n",
              "      <th>8</th>\n",
              "      <td>Smart TV LED 65\" Samsung Crystal 4K HDR UN65CU...</td>\n",
              "      <td>R$ 3.199,98</td>\n",
              "      <td>65</td>\n",
              "    </tr>\n",
              "    <tr>\n",
              "      <th>9</th>\n",
              "      <td>Smart TV QLED 55\" TCL 4K HDR 55C645</td>\n",
              "      <td>R$ 2.469,05</td>\n",
              "      <td>55</td>\n",
              "    </tr>\n",
              "    <tr>\n",
              "      <th>10</th>\n",
              "      <td>Smart TV LED 55\" Samsung Crystal 4K HDR UN55CU...</td>\n",
              "      <td>R$ 2.398,98</td>\n",
              "      <td>55</td>\n",
              "    </tr>\n",
              "    <tr>\n",
              "      <th>11</th>\n",
              "      <td>Smart TV QLED 55\" Samsung 4K Quantum HDR QN55Q...</td>\n",
              "      <td>R$ 2.999,00</td>\n",
              "      <td>55</td>\n",
              "    </tr>\n",
              "    <tr>\n",
              "      <th>12</th>\n",
              "      <td>Smart TV OLED Evo 55\" LG ThinQ AI 4K HDR OLED5...</td>\n",
              "      <td>R$ 5.799,00</td>\n",
              "      <td>55</td>\n",
              "    </tr>\n",
              "    <tr>\n",
              "      <th>13</th>\n",
              "      <td>Smart TV LED 75\" Samsung Crystal 4K HDR UN75CU...</td>\n",
              "      <td>R$ 4.844,05</td>\n",
              "      <td>75</td>\n",
              "    </tr>\n",
              "    <tr>\n",
              "      <th>14</th>\n",
              "      <td>Smart TV Nano Cristal 65\" LG 4K HDR 65NANO77SRA</td>\n",
              "      <td>R$ 3.383,10</td>\n",
              "      <td>65</td>\n",
              "    </tr>\n",
              "    <tr>\n",
              "      <th>15</th>\n",
              "      <td>Smart TV LED 32\" TCL Full HD HDR 32S5400AF</td>\n",
              "      <td>R$ 1.039,00</td>\n",
              "      <td>32</td>\n",
              "    </tr>\n",
              "    <tr>\n",
              "      <th>16</th>\n",
              "      <td>Smart TV Nano Cristal 50\" LG 4K HDR 50NANO77SRA</td>\n",
              "      <td>R$ 2.326,55</td>\n",
              "      <td>50</td>\n",
              "    </tr>\n",
              "    <tr>\n",
              "      <th>17</th>\n",
              "      <td>Smart TV LED 32\" Samsung HDR UN32T4300AGXZD</td>\n",
              "      <td>R$ 1.016,10</td>\n",
              "      <td>32</td>\n",
              "    </tr>\n",
              "    <tr>\n",
              "      <th>18</th>\n",
              "      <td>Smart TV LED 43\" LG ThinQ AI 4K HDR 43UR7800PSA</td>\n",
              "      <td>R$ 1.799,00</td>\n",
              "      <td>43</td>\n",
              "    </tr>\n",
              "    <tr>\n",
              "      <th>19</th>\n",
              "      <td>Smart TV Nano Cristal 55\" LG 4K HDR 55NANO77SRA</td>\n",
              "      <td>R$ 2.499,00</td>\n",
              "      <td>55</td>\n",
              "    </tr>\n",
              "    <tr>\n",
              "      <th>20</th>\n",
              "      <td>Smart TV Neo QLED 50\" Samsung 4K Quantum HDR Q...</td>\n",
              "      <td>R$ 3.899,00</td>\n",
              "      <td>50</td>\n",
              "    </tr>\n",
              "    <tr>\n",
              "      <th>21</th>\n",
              "      <td>Smart TV LED 50\" LG ThinQ AI 4K HDR 50UR8750PSA</td>\n",
              "      <td>R$ 2.249,10</td>\n",
              "      <td>50</td>\n",
              "    </tr>\n",
              "    <tr>\n",
              "      <th>22</th>\n",
              "      <td>Smart TV LED 43\" AOC Full HD 43S5135/78G</td>\n",
              "      <td>R$ 1.424,05</td>\n",
              "      <td>43</td>\n",
              "    </tr>\n",
              "    <tr>\n",
              "      <th>23</th>\n",
              "      <td>Smart TV LED 55\" Samsung Crystal 4K HDR UN55CU...</td>\n",
              "      <td>R$ 2.499,00</td>\n",
              "      <td>55</td>\n",
              "    </tr>\n",
              "  </tbody>\n",
              "</table>\n",
              "</div>\n",
              "    <div class=\"colab-df-buttons\">\n",
              "\n",
              "  <div class=\"colab-df-container\">\n",
              "    <button class=\"colab-df-convert\" onclick=\"convertToInteractive('df-e9c20063-ff55-4081-8c8a-2c4b003df657')\"\n",
              "            title=\"Convert this dataframe to an interactive table.\"\n",
              "            style=\"display:none;\">\n",
              "\n",
              "  <svg xmlns=\"http://www.w3.org/2000/svg\" height=\"24px\" viewBox=\"0 -960 960 960\">\n",
              "    <path d=\"M120-120v-720h720v720H120Zm60-500h600v-160H180v160Zm220 220h160v-160H400v160Zm0 220h160v-160H400v160ZM180-400h160v-160H180v160Zm440 0h160v-160H620v160ZM180-180h160v-160H180v160Zm440 0h160v-160H620v160Z\"/>\n",
              "  </svg>\n",
              "    </button>\n",
              "\n",
              "  <style>\n",
              "    .colab-df-container {\n",
              "      display:flex;\n",
              "      gap: 12px;\n",
              "    }\n",
              "\n",
              "    .colab-df-convert {\n",
              "      background-color: #E8F0FE;\n",
              "      border: none;\n",
              "      border-radius: 50%;\n",
              "      cursor: pointer;\n",
              "      display: none;\n",
              "      fill: #1967D2;\n",
              "      height: 32px;\n",
              "      padding: 0 0 0 0;\n",
              "      width: 32px;\n",
              "    }\n",
              "\n",
              "    .colab-df-convert:hover {\n",
              "      background-color: #E2EBFA;\n",
              "      box-shadow: 0px 1px 2px rgba(60, 64, 67, 0.3), 0px 1px 3px 1px rgba(60, 64, 67, 0.15);\n",
              "      fill: #174EA6;\n",
              "    }\n",
              "\n",
              "    .colab-df-buttons div {\n",
              "      margin-bottom: 4px;\n",
              "    }\n",
              "\n",
              "    [theme=dark] .colab-df-convert {\n",
              "      background-color: #3B4455;\n",
              "      fill: #D2E3FC;\n",
              "    }\n",
              "\n",
              "    [theme=dark] .colab-df-convert:hover {\n",
              "      background-color: #434B5C;\n",
              "      box-shadow: 0px 1px 3px 1px rgba(0, 0, 0, 0.15);\n",
              "      filter: drop-shadow(0px 1px 2px rgba(0, 0, 0, 0.3));\n",
              "      fill: #FFFFFF;\n",
              "    }\n",
              "  </style>\n",
              "\n",
              "    <script>\n",
              "      const buttonEl =\n",
              "        document.querySelector('#df-e9c20063-ff55-4081-8c8a-2c4b003df657 button.colab-df-convert');\n",
              "      buttonEl.style.display =\n",
              "        google.colab.kernel.accessAllowed ? 'block' : 'none';\n",
              "\n",
              "      async function convertToInteractive(key) {\n",
              "        const element = document.querySelector('#df-e9c20063-ff55-4081-8c8a-2c4b003df657');\n",
              "        const dataTable =\n",
              "          await google.colab.kernel.invokeFunction('convertToInteractive',\n",
              "                                                    [key], {});\n",
              "        if (!dataTable) return;\n",
              "\n",
              "        const docLinkHtml = 'Like what you see? Visit the ' +\n",
              "          '<a target=\"_blank\" href=https://colab.research.google.com/notebooks/data_table.ipynb>data table notebook</a>'\n",
              "          + ' to learn more about interactive tables.';\n",
              "        element.innerHTML = '';\n",
              "        dataTable['output_type'] = 'display_data';\n",
              "        await google.colab.output.renderOutput(dataTable, element);\n",
              "        const docLink = document.createElement('div');\n",
              "        docLink.innerHTML = docLinkHtml;\n",
              "        element.appendChild(docLink);\n",
              "      }\n",
              "    </script>\n",
              "  </div>\n",
              "\n",
              "\n",
              "<div id=\"df-bec2f3f1-b47c-4b6d-a88f-8f2837718d80\">\n",
              "  <button class=\"colab-df-quickchart\" onclick=\"quickchart('df-bec2f3f1-b47c-4b6d-a88f-8f2837718d80')\"\n",
              "            title=\"Suggest charts\"\n",
              "            style=\"display:none;\">\n",
              "\n",
              "<svg xmlns=\"http://www.w3.org/2000/svg\" height=\"24px\"viewBox=\"0 0 24 24\"\n",
              "     width=\"24px\">\n",
              "    <g>\n",
              "        <path d=\"M19 3H5c-1.1 0-2 .9-2 2v14c0 1.1.9 2 2 2h14c1.1 0 2-.9 2-2V5c0-1.1-.9-2-2-2zM9 17H7v-7h2v7zm4 0h-2V7h2v10zm4 0h-2v-4h2v4z\"/>\n",
              "    </g>\n",
              "</svg>\n",
              "  </button>\n",
              "\n",
              "<style>\n",
              "  .colab-df-quickchart {\n",
              "      --bg-color: #E8F0FE;\n",
              "      --fill-color: #1967D2;\n",
              "      --hover-bg-color: #E2EBFA;\n",
              "      --hover-fill-color: #174EA6;\n",
              "      --disabled-fill-color: #AAA;\n",
              "      --disabled-bg-color: #DDD;\n",
              "  }\n",
              "\n",
              "  [theme=dark] .colab-df-quickchart {\n",
              "      --bg-color: #3B4455;\n",
              "      --fill-color: #D2E3FC;\n",
              "      --hover-bg-color: #434B5C;\n",
              "      --hover-fill-color: #FFFFFF;\n",
              "      --disabled-bg-color: #3B4455;\n",
              "      --disabled-fill-color: #666;\n",
              "  }\n",
              "\n",
              "  .colab-df-quickchart {\n",
              "    background-color: var(--bg-color);\n",
              "    border: none;\n",
              "    border-radius: 50%;\n",
              "    cursor: pointer;\n",
              "    display: none;\n",
              "    fill: var(--fill-color);\n",
              "    height: 32px;\n",
              "    padding: 0;\n",
              "    width: 32px;\n",
              "  }\n",
              "\n",
              "  .colab-df-quickchart:hover {\n",
              "    background-color: var(--hover-bg-color);\n",
              "    box-shadow: 0 1px 2px rgba(60, 64, 67, 0.3), 0 1px 3px 1px rgba(60, 64, 67, 0.15);\n",
              "    fill: var(--button-hover-fill-color);\n",
              "  }\n",
              "\n",
              "  .colab-df-quickchart-complete:disabled,\n",
              "  .colab-df-quickchart-complete:disabled:hover {\n",
              "    background-color: var(--disabled-bg-color);\n",
              "    fill: var(--disabled-fill-color);\n",
              "    box-shadow: none;\n",
              "  }\n",
              "\n",
              "  .colab-df-spinner {\n",
              "    border: 2px solid var(--fill-color);\n",
              "    border-color: transparent;\n",
              "    border-bottom-color: var(--fill-color);\n",
              "    animation:\n",
              "      spin 1s steps(1) infinite;\n",
              "  }\n",
              "\n",
              "  @keyframes spin {\n",
              "    0% {\n",
              "      border-color: transparent;\n",
              "      border-bottom-color: var(--fill-color);\n",
              "      border-left-color: var(--fill-color);\n",
              "    }\n",
              "    20% {\n",
              "      border-color: transparent;\n",
              "      border-left-color: var(--fill-color);\n",
              "      border-top-color: var(--fill-color);\n",
              "    }\n",
              "    30% {\n",
              "      border-color: transparent;\n",
              "      border-left-color: var(--fill-color);\n",
              "      border-top-color: var(--fill-color);\n",
              "      border-right-color: var(--fill-color);\n",
              "    }\n",
              "    40% {\n",
              "      border-color: transparent;\n",
              "      border-right-color: var(--fill-color);\n",
              "      border-top-color: var(--fill-color);\n",
              "    }\n",
              "    60% {\n",
              "      border-color: transparent;\n",
              "      border-right-color: var(--fill-color);\n",
              "    }\n",
              "    80% {\n",
              "      border-color: transparent;\n",
              "      border-right-color: var(--fill-color);\n",
              "      border-bottom-color: var(--fill-color);\n",
              "    }\n",
              "    90% {\n",
              "      border-color: transparent;\n",
              "      border-bottom-color: var(--fill-color);\n",
              "    }\n",
              "  }\n",
              "</style>\n",
              "\n",
              "  <script>\n",
              "    async function quickchart(key) {\n",
              "      const quickchartButtonEl =\n",
              "        document.querySelector('#' + key + ' button');\n",
              "      quickchartButtonEl.disabled = true;  // To prevent multiple clicks.\n",
              "      quickchartButtonEl.classList.add('colab-df-spinner');\n",
              "      try {\n",
              "        const charts = await google.colab.kernel.invokeFunction(\n",
              "            'suggestCharts', [key], {});\n",
              "      } catch (error) {\n",
              "        console.error('Error during call to suggestCharts:', error);\n",
              "      }\n",
              "      quickchartButtonEl.classList.remove('colab-df-spinner');\n",
              "      quickchartButtonEl.classList.add('colab-df-quickchart-complete');\n",
              "    }\n",
              "    (() => {\n",
              "      let quickchartButtonEl =\n",
              "        document.querySelector('#df-bec2f3f1-b47c-4b6d-a88f-8f2837718d80 button');\n",
              "      quickchartButtonEl.style.display =\n",
              "        google.colab.kernel.accessAllowed ? 'block' : 'none';\n",
              "    })();\n",
              "  </script>\n",
              "</div>\n",
              "\n",
              "    </div>\n",
              "  </div>\n"
            ],
            "application/vnd.google.colaboratory.intrinsic+json": {
              "type": "dataframe",
              "summary": "{\n  \"name\": \"pd\",\n  \"rows\": 24,\n  \"fields\": [\n    {\n      \"column\": \"televisores\",\n      \"properties\": {\n        \"dtype\": \"string\",\n        \"num_unique_values\": 24,\n        \"samples\": [\n          \"Smart TV LED 65\\\" Samsung Crystal 4K HDR UN65CU7700GXZD\",\n          \"Smart TV Nano Cristal 50\\\" LG 4K HDR 50NANO77SRA\",\n          \"Smart TV LED 50\\\" Samsung Crystal 4K HDR UN50CU7700GXZD\"\n        ],\n        \"semantic_type\": \"\",\n        \"description\": \"\"\n      }\n    },\n    {\n      \"column\": \"precos\",\n      \"properties\": {\n        \"dtype\": \"string\",\n        \"num_unique_values\": 23,\n        \"samples\": [\n          \"R$ 1.039,00\",\n          \"R$ 2.469,05\",\n          \"R$ 2.159,00\"\n        ],\n        \"semantic_type\": \"\",\n        \"description\": \"\"\n      }\n    },\n    {\n      \"column\": \"polegadas\",\n      \"properties\": {\n        \"dtype\": \"category\",\n        \"num_unique_values\": 6,\n        \"samples\": [\n          \"50\",\n          \"43\",\n          \"75\"\n        ],\n        \"semantic_type\": \"\",\n        \"description\": \"\"\n      }\n    }\n  ]\n}"
            }
          },
          "metadata": {},
          "execution_count": 226
        }
      ]
    },
    {
      "cell_type": "code",
      "source": [],
      "metadata": {
        "id": "q7Qkni0KIOUl"
      },
      "execution_count": 178,
      "outputs": []
    }
  ],
  "metadata": {
    "kernelspec": {
      "display_name": "venv",
      "language": "python",
      "name": "python3"
    },
    "language_info": {
      "codemirror_mode": {
        "name": "ipython",
        "version": 3
      },
      "file_extension": ".py",
      "mimetype": "text/x-python",
      "name": "python",
      "nbconvert_exporter": "python",
      "pygments_lexer": "ipython3",
      "version": "3.11.5"
    },
    "colab": {
      "provenance": [],
      "include_colab_link": true
    }
  },
  "nbformat": 4,
  "nbformat_minor": 0
}